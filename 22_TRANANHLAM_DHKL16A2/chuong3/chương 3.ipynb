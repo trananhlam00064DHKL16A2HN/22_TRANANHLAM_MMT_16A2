{
 "cells": [
  {
   "cell_type": "code",
   "execution_count": null,
   "metadata": {},
   "outputs": [
    {
     "name": "stdout",
     "output_type": "stream",
     "text": [
      "                                            Tên sách  Giá (nghìn VND)  \\\n",
      "0  Sách - Bộ sách giao tiếp - Thuật thôi miên tro...               78   \n",
      "1               Sách - Phương Pháp Đọc Sách Hiệu Quả              129   \n",
      "2                                Đọc Sách, Điểm Sách               40   \n",
      "3  Sách Phân Tâm Học Nhập Môn (Tặng kèm Bộ Bookma...              143   \n",
      "4  Sách Nghệ Thuật Tư Duy Rành Mạch (Tặng kèm Bộ ...              106   \n",
      "5            Sách - Làm thế nào để đọc sách hiệu quả               80   \n",
      "6                        Sách - Bản Thiết Kế Trí Tuệ              127   \n",
      "7  Sách Bức Xúc Không Làm Ta Vô Can (Tặng kèm Bộ ...               85   \n",
      "8  Sách Phương Pháp Đọc Sách Hiệu Quả (Tái bản Mớ...              134   \n",
      "9  Phương Pháp Đọc Sách Hiệu Quả (*** Sách Bản Qu...              134   \n",
      "\n",
      "  Thương hiệu  \n",
      "0    Không rõ  \n",
      "1    Không rõ  \n",
      "2    Không rõ  \n",
      "3    Không rõ  \n",
      "4    Không rõ  \n",
      "5    Không rõ  \n",
      "6    Không rõ  \n",
      "7    Không rõ  \n",
      "8    Không rõ  \n",
      "9    Không rõ  \n"
     ]
    }
   ],
   "source": [
    "import requests\n",
    "import pandas as pd\n",
    "\n",
    "# Định nghĩa endpoint API và tham số truy vấn\n",
    "url = \"https://tiki.vn/api/v2/products?limit=10&q=s%C3%A1ch\"\n",
    "\n",
    "params = {\n",
    "    \"q\": \"sách\",  # Từ khóa tìm kiếm\n",
    "    \"limit\": 10    # Số kết quả muốn lấy\n",
    "}\n",
    "\n",
    "# Thêm User-Agent để giả lập trình duyệt thật\n",
    "\n",
    "\n",
    "# Gửi request GET đến API\n",
    "response = requests.get(url, params=params, headers=headers)\n",
    "data = response.json() #Parse dữ liệu json trả về\n",
    "\n",
    "#Khởi tạo ds để lưu trữ \n",
    "books = []\n",
    "    \n",
    "# Duyệt qua từng sản phẩm trong mảng 'data'\n",
    "for item in data['data']:\n",
    "        books.append({\n",
    "            'Tên sách': item['name'],\n",
    "            'Giá (nghìn VND)': item['price'] // 1000,  # Chuyển giá sang nghìn đồng\n",
    "            'Thương hiệu': item.get('brand', {}).get('name', 'Không rõ')  # Lấy thương hiệu nếu có\n",
    "        })\n",
    "    \n",
    "    # Chuyển danh sách thành DataFrame để hiển thị dạng bảng\n",
    "df = pd.DataFrame(books)\n",
    "print(df)"
   ]
  },
  {
   "cell_type": "code",
   "execution_count": 11,
   "metadata": {},
   "outputs": [
    {
     "name": "stdout",
     "output_type": "stream",
     "text": [
      "Lỗi khi truy cập API: 403\n"
     ]
    }
   ],
   "source": [
    "import requests\n",
    "import pandas as pd\n",
    "\n",
    "# Định nghĩa endpoint API Shopee\n",
    "url = \"https://shopee.vn/api/v4/search/search_items?by=relevancy&extra_params=%7B%22global_search_session_id%22%3A%22gs-f1549482-4455-40c7-be07-b500cd79f11d%22%2C%22search_session_id%22%3A%22ss-e14f7b0d-110e-4215-9669-3361174912f5%22%7D&keyword=son&limit=60&newest=0&order=desc&page_type=search&scenario=PAGE_GLOBAL_SEARCH&source=SRP&version=2&view_session_id=51c07766-63ba-4678-8082-2cc62abc43d3\"\n",
    "\n",
    "# Tham số truy vấn\n",
    "params = {\n",
    "    \"by\": \"relevancy\",\n",
    "    \"keyword\": \"son\",  # Tìm kiếm sản phẩm son\n",
    "    \"limit\": 10,  # Số sản phẩm muốn lấy\n",
    "    \"newest\": 0,\n",
    "    \"order\": \"desc\",\n",
    "    \"page_type\": \"search\",\n",
    "    \"scenario\": \"PAGE_GLOBAL_SEARCH\",\n",
    "    \"source\": \"SRP\",\n",
    "    \"version\": 2\n",
    "}\n",
    "\n",
    "# Thêm User-Agent để giả lập trình duyệt thật\n",
    "\n",
    "headers = {\n",
    "    \"User-Agent\": \"Mozilla/5.0 (Windows NT 10.0; Win64; x64) AppleWebKit/537.36 (KHTML, like Gecko) Chrome/122.0.0.0 Safari/537.36\",\n",
    "    \"Cookie\": \"dán_cookie_lấy_từ_devtools\"\n",
    "}\n",
    "\n",
    "# Đảm bảo header không bị lỗi mã hóa\n",
    "for key, value in headers.items():\n",
    "    headers[key] = value.encode(\"utf-8\").decode(\"latin-1\")\n",
    "\n",
    "# Gửi request GET đến API\n",
    "response = requests.get(url, params=params, headers=headers)\n",
    "\n",
    "# Kiểm tra phản hồi từ API\n",
    "if response.status_code == 200:\n",
    "    data = response.json()  # Parse dữ liệu JSON trả về\n",
    "    \n",
    "    # Khởi tạo danh sách để lưu trữ thông tin son\n",
    "    lipsticks = []\n",
    "    \n",
    "    # Kiểm tra nếu API trả về danh sách sản phẩm\n",
    "    if \"items\" in data:\n",
    "        for item in data[\"items\"]:\n",
    "            product = item[\"item_basic\"]  # Truy cập thông tin sản phẩm\n",
    "            lipsticks.append({\n",
    "                'Tên sản phẩm': product.get(\"name\", \"Không rõ\"),\n",
    "                'Giá (nghìn VND)': product.get(\"price\", 0) // 100000,  # Chia 100000 do Shopee lưu giá dưới dạng VND * 100000\n",
    "                'Thương hiệu': product.get(\"brand\", \"Không rõ\")  # Lấy thương hiệu nếu có\n",
    "            })\n",
    "    \n",
    "        # Chuyển danh sách thành DataFrame để hiển thị dạng bảng\n",
    "        df = pd.DataFrame(lipsticks)\n",
    "        print(df)\n",
    "    else:\n",
    "        print(\"Không có dữ liệu sản phẩm son.\")\n",
    "else:\n",
    "    print(\"Lỗi khi truy cập API:\", response.status_code)\n"
   ]
  }
 ],
 "metadata": {
  "kernelspec": {
   "display_name": "Python 3",
   "language": "python",
   "name": "python3"
  },
  "language_info": {
   "codemirror_mode": {
    "name": "ipython",
    "version": 3
   },
   "file_extension": ".py",
   "mimetype": "text/x-python",
   "name": "python",
   "nbconvert_exporter": "python",
   "pygments_lexer": "ipython3",
   "version": "3.10.8"
  }
 },
 "nbformat": 4,
 "nbformat_minor": 2
}
