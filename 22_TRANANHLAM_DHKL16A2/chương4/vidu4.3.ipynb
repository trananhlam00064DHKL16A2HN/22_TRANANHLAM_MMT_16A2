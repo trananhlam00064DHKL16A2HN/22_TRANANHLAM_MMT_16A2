{
 "cells": [
  {
   "cell_type": "code",
   "execution_count": 3,
   "id": "d113402d",
   "metadata": {},
   "outputs": [
    {
     "name": "stdout",
     "output_type": "stream",
     "text": [
      "Mã hash của giao dịch 1: 4dbaa3c080d6bc79a8408fd9381cea46bc81e31c0de1f702bc7e767ab4d55e3d\n",
      "Mã hash của giao dịch 2: 91a07ba6c52ae76c91adf7431e94dc83f55fc09f97cd4955125d8a4dcf67143e\n",
      "Merkle Root: 440a29746cde0b381306d7ec7ae52db247752943dbec232654bfee75a9e623e7\n"
     ]
    }
   ],
   "source": [
    "import hashlib\n",
    "\n",
    "def calculate_sha256_hash(data):\n",
    "    \"\"\"Tính toán mã hash SHA-256 của dữ liệu đầu vào.\"\"\"\n",
    "    return hashlib.sha256(data.encode('utf-8')).hexdigest()\n",
    "\n",
    "# Dữ liệu giao dịch\n",
    "transaction_1 = \"Giao dịch 3\"\n",
    "transaction_2 = \"Giao dịch 4\"\n",
    "\n",
    "# Tính toán mã hash cho từng giao dịch\n",
    "hash_transaction_1 = calculate_sha256_hash(transaction_1)\n",
    "hash_transaction_2 = calculate_sha256_hash(transaction_2)\n",
    "\n",
    "# Tính toán Merkle Root bằng cách kết hợp hai mã hash và hash kết quả\n",
    "merkle_root = calculate_sha256_hash(hash_transaction_1 + hash_transaction_2)\n",
    "\n",
    "# In kết quả\n",
    "print(\"Mã hash của giao dịch 1:\", hash_transaction_1)\n",
    "print(\"Mã hash của giao dịch 2:\", hash_transaction_2)\n",
    "print(\"Merkle Root:\", merkle_root)"
   ]
  },
  {
   "cell_type": "code",
   "execution_count": 2,
   "id": "47dd43d4",
   "metadata": {},
   "outputs": [
    {
     "name": "stdout",
     "output_type": "stream",
     "text": [
      "Merkle Root: 168b10e3871356477070e1b54cf7df185e3335b70819aab0e89063dfe46533d3\n"
     ]
    }
   ],
   "source": [
    "import hashlib\n",
    "\n",
    "def calculate_sha256(data):\n",
    "    \"\"\"Tính SHA-256 hash của dữ liệu.\"\"\"\n",
    "    return hashlib.sha256(data.encode('utf-8')).hexdigest()\n",
    "\n",
    "def compute_merkle_root(transactions):\n",
    "    \"\"\"Tính Merkle Root từ danh sách giao dịch.\"\"\"\n",
    "    if not transactions:\n",
    "        return None\n",
    "    \n",
    "    # Bước 1: Tính hash từng giao dịch (lá cây)\n",
    "    current_level = [calculate_sha256(tx) for tx in transactions]\n",
    "    \n",
    "    # Bước 2: Xây dựng cây Merkle từ dưới lên\n",
    "    while len(current_level) > 1:\n",
    "        next_level = []\n",
    "        \n",
    "        # Ghép từng cặp hash và tính hash cha\n",
    "        for i in range(0, len(current_level), 2):\n",
    "            left = current_level[i]\n",
    "            right = current_level[i + 1] if (i + 1) < len(current_level) else left  # Nếu số lượng lẻ, lặp lại hash cuối\n",
    "            combined_hash = calculate_sha256(left + right)\n",
    "            next_level.append(combined_hash)\n",
    "        \n",
    "        current_level = next_level\n",
    "    \n",
    "    # Kết quả cuối cùng là Merkle Root\n",
    "    return current_level[0]\n",
    "\n",
    "# Danh sách giao dịch\n",
    "transactions = [\n",
    "    \"Giao dịch 1\",\n",
    "    \"Giao dịch 2\",\n",
    "    \"Giao dịch 3\",\n",
    "    \"Giao dịch 4\"\n",
    "]\n",
    "\n",
    "# Tính Merkle Root\n",
    "merkle_root = compute_merkle_root(transactions)\n",
    "print(\"Merkle Root:\", merkle_root)"
   ]
  }
 ],
 "metadata": {
  "kernelspec": {
   "display_name": "Python 3",
   "language": "python",
   "name": "python3"
  },
  "language_info": {
   "codemirror_mode": {
    "name": "ipython",
    "version": 3
   },
   "file_extension": ".py",
   "mimetype": "text/x-python",
   "name": "python",
   "nbconvert_exporter": "python",
   "pygments_lexer": "ipython3",
   "version": "3.12.0"
  }
 },
 "nbformat": 4,
 "nbformat_minor": 5
}
