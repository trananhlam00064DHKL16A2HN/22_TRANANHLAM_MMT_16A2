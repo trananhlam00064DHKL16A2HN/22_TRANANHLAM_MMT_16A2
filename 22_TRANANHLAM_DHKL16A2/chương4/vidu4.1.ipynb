{
 "cells": [
  {
   "cell_type": "code",
   "execution_count": 2,
   "id": "f554316a",
   "metadata": {},
   "outputs": [
    {
     "name": "stdout",
     "output_type": "stream",
     "text": [
      "Hash 1:  27da2e89c775b717d427109f3a4c985769ddd109fd238aa57b27da275cfa9ae2\n",
      "Hash 2:  5c1e45a98e33f8711ea501ecd0bf73cefe2044617731f80de3c37b1650b8c364\n"
     ]
    }
   ],
   "source": [
    "import hashlib\n",
    "data1 = \"blockchain là cong nghe nen tang\"\n",
    "data2 = \"Blockchain là cong nghe nen tang\"\n",
    "has1 = hashlib.sha256(data1.encode()).hexdigest()\n",
    "hast2 = hashlib.sha256(data2.encode()).hexdigest()\n",
    "print(\"Hash 1: \", has1)\n",
    "print(\"Hash 2: \", hast2)"
   ]
  },
  {
   "cell_type": "code",
   "execution_count": 3,
   "id": "cb61acca",
   "metadata": {},
   "outputs": [
    {
     "name": "stdout",
     "output_type": "stream",
     "text": [
      "Block Hash:  f366c237b348b73a488bbb392dd0a81f09fa151ef38b865efef7ffc9fb0e5185\n"
     ]
    }
   ],
   "source": [
    "import hashlib\n",
    "class Block:\n",
    "    def __init__(self,preivious_hash, data):\n",
    "        self.preivious_hash = preivious_hash\n",
    "        self.data = data\n",
    "        self.hash  = self.calculate_hash()\n",
    "    def calculate_hash(self):\n",
    "        block_data = self.preivious_hash + self.data\n",
    "        return hashlib.sha256(block_data.encode()).hexdigest()\n",
    "block = Block(\"0000a7c8...\",\"Transaction data example\")\n",
    "print(\"Block Hash: \", block.hash)\n"
   ]
  }
 ],
 "metadata": {
  "kernelspec": {
   "display_name": "Python 3",
   "language": "python",
   "name": "python3"
  },
  "language_info": {
   "codemirror_mode": {
    "name": "ipython",
    "version": 3
   },
   "file_extension": ".py",
   "mimetype": "text/x-python",
   "name": "python",
   "nbconvert_exporter": "python",
   "pygments_lexer": "ipython3",
   "version": "3.12.0"
  }
 },
 "nbformat": 4,
 "nbformat_minor": 5
}
