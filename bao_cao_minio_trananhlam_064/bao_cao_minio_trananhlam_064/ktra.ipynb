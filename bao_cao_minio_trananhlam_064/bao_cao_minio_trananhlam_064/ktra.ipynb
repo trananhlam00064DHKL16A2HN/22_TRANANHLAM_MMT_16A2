{
 "cells": [
  {
   "cell_type": "code",
   "execution_count": 4,
   "id": "3654299d",
   "metadata": {},
   "outputs": [
    {
     "name": "stdout",
     "output_type": "stream",
     "text": [
      "Download thành công!\n"
     ]
    }
   ],
   "source": [
    "import boto3\n",
    "from botocore.client import Config\n",
    "\n",
    "s3 = boto3.client(\n",
    "    's3',\n",
    "    endpoint_url='http://172.31.39.142:9000',  # Sửa đúng cổng ở đây\n",
    "    aws_access_key_id='anhlam',\n",
    "    aws_secret_access_key='27052004',\n",
    "    config=Config(signature_version='s3v4'),\n",
    "    region_name='us-east-1'\n",
    ")\n",
    "\n",
    "s3.download_file('iod-lap-demo', 'sensor_data (1).csv', 'Data_trananhlamtrananhlam.csv')\n",
    "print(\"Download thành công!\")\n"
   ]
  }
 ],
 "metadata": {
  "kernelspec": {
   "display_name": "Python 3",
   "language": "python",
   "name": "python3"
  },
  "language_info": {
   "codemirror_mode": {
    "name": "ipython",
    "version": 3
   },
   "file_extension": ".py",
   "mimetype": "text/x-python",
   "name": "python",
   "nbconvert_exporter": "python",
   "pygments_lexer": "ipython3",
   "version": "3.13.2"
  }
 },
 "nbformat": 4,
 "nbformat_minor": 5
}
