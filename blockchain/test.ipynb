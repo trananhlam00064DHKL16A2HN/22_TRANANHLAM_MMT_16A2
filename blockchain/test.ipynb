{
 "cells": [
  {
   "cell_type": "code",
   "execution_count": 5,
   "id": "76f147fd",
   "metadata": {},
   "outputs": [],
   "source": [
    "import web3\n",
    "import solcx\n",
    "import json"
   ]
  },
  {
   "cell_type": "code",
   "execution_count": 2,
   "id": "5ed57bbe",
   "metadata": {},
   "outputs": [
    {
     "name": "stdout",
     "output_type": "stream",
     "text": [
      "web3 .version:  7.10.0\n"
     ]
    }
   ],
   "source": [
    "print(\"web3 .version: \", web3.__version__)"
   ]
  },
  {
   "cell_type": "code",
   "execution_count": 10,
   "id": "59abad56",
   "metadata": {},
   "outputs": [
    {
     "name": "stdout",
     "output_type": "stream",
     "text": [
      "Phiên bản đã cài  [<Version('0.8.0')>]\n"
     ]
    }
   ],
   "source": [
    "print(\"Phiên bản đã cài \", solcx.get_installed_solc_versions())"
   ]
  },
  {
   "cell_type": "code",
   "execution_count": 8,
   "id": "17ce2bf6",
   "metadata": {},
   "outputs": [
    {
     "data": {
      "text/plain": [
       "<Version('0.8.0')>"
      ]
     },
     "execution_count": 8,
     "metadata": {},
     "output_type": "execute_result"
    }
   ],
   "source": [
    "from solcx import install_solc\n",
    "install_solc(\"0.8.0\")"
   ]
  },
  {
   "cell_type": "code",
   "execution_count": 11,
   "id": "45e3e653",
   "metadata": {},
   "outputs": [
    {
     "name": "stdout",
     "output_type": "stream",
     "text": [
      "Phiên bản đã cài  [<Version('0.8.0')>]\n"
     ]
    }
   ],
   "source": [
    "print(\"Phiên bản đã cài \", solcx.get_installed_solc_versions())"
   ]
  },
  {
   "cell_type": "code",
   "execution_count": 12,
   "id": "618a9fe9",
   "metadata": {},
   "outputs": [
    {
     "name": "stdout",
     "output_type": "stream",
     "text": [
      "// SPDX-License-Identifier: MIT\n",
      "pragma solidity ^0.8.0;\n",
      "\n",
      "contract MessageContract {\n",
      "    string public message;\n",
      "\n",
      "    constructor(string memory _message) {\n",
      "        message = _message;\n",
      "    }\n",
      "\n",
      "    functio\n"
     ]
    }
   ],
   "source": [
    "with open (\"Message.sol\") as file:\n",
    "    contract_source_code = file.read()\n",
    "print(contract_source_code[:200])"
   ]
  },
  {
   "cell_type": "code",
   "execution_count": 17,
   "id": "532e71f4",
   "metadata": {},
   "outputs": [],
   "source": [
    "from solcx import compile_standard\n",
    "compile_sol = compile_standard({\n",
    "    \"language\": \"Solidity\",\n",
    "    \"sources\": {\n",
    "        \"Message.sol\": {\n",
    "            \"content\": contract_source_code\n",
    "        }\n",
    "    },\n",
    "    \"settings\": {\n",
    "        \"outputSelection\": {\n",
    "            \"*\": {\n",
    "                \"*\": [\"abi\",\"metadata\",\"evm.bytecode\",\"evm.sourceMap\"],\n",
    "            }\n",
    "        }\n",
    "    }\n",
    "},solc_version = \"0.8.0\")"
   ]
  }
 ],
 "metadata": {
  "kernelspec": {
   "display_name": "Python 3",
   "language": "python",
   "name": "python3"
  },
  "language_info": {
   "codemirror_mode": {
    "name": "ipython",
    "version": 3
   },
   "file_extension": ".py",
   "mimetype": "text/x-python",
   "name": "python",
   "nbconvert_exporter": "python",
   "pygments_lexer": "ipython3",
   "version": "3.12.0"
  }
 },
 "nbformat": 4,
 "nbformat_minor": 5
}
